{
 "cells": [
  {
   "cell_type": "code",
   "execution_count": null,
   "metadata": {},
   "outputs": [],
   "source": [
    "# Dependencies\n",
    "import matplotlib.pyplot as plt\n",
    "import requests\n",
    "import pandas as pd\n",
    "import numpy as np\n",
    "\n",
    "\n",
    "from config import api_key\n",
    "\n",
    "from citipy import citipy\n",
    "\n",
    "from pprint import pprint\n",
    "\n",
    "import time\n",
    "from datetime import date\n",
    "\n",
    "import os\n"
   ]
  },
  {
   "cell_type": "code",
   "execution_count": null,
   "metadata": {},
   "outputs": [],
   "source": [
    "coord_lat= np.random.randint(-90, 90, 600)\n",
    "coord_lon = np.random.randint(-180 ,180, 600)"
   ]
  },
  {
   "cell_type": "code",
   "execution_count": null,
   "metadata": {},
   "outputs": [],
   "source": [
    "\n",
    "# set up lists to hold reponse info\n",
    "cityid = []\n",
    "cityname = []\n",
    "country = []\n",
    "date = []\n",
    "tempmax = []\n",
    "lat = []\n",
    "long = []\n",
    "humidity = []\n",
    "cloud =[]\n",
    "wind =[]\n",
    "\n",
    "\n",
    "# Create new Text file to hold the log of each city with the city number, city name, and requested URL.\n",
    "cityfile = 'citieslist' + time.strftime(\"%m%d%y\") + '.txt'\n",
    "citieslist = os.path.join(cityfile)\n",
    "\n",
    "print ('Beginning Data Retrieval')\n",
    "print ('-----------------------------')\n",
    "\n",
    "with open(citieslist, 'w') as text_file:\n",
    "    text_file.write (\"list of cities and URL \\n\")\n",
    "    text_file.write (\"------------------------ \\n\")\n",
    "\n",
    "    for x in range(500):\n",
    "    \n",
    "        Lat= coord_lat[x]\n",
    "        Lng = coord_lon[x]\n",
    "        listcit = citipy.nearest_city(Lat, Lng)\n",
    "        city_name = listcit.city_name\n",
    "        city_code = listcit.country_code\n",
    "\n",
    "\n",
    "        url = \"http://api.openweathermap.org/data/2.5/weather?\"\n",
    "        units = \"imperial\"\n",
    "\n",
    "        # Build partial query URL\n",
    "        query_url = f\"{url}appid={api_key}&units={units}&q=\"\n",
    "\n",
    "         # make request, print url\n",
    "        base_response = requests.get(query_url + city_name)\n",
    "\n",
    "        #print the city number, the city name and the url\n",
    "        print ((\"City \" + str(x+1) + \":\" + city_name))\n",
    "        print(base_response.url)\n",
    "    \n",
    "        #print in the text file,the city number, the city name and the url\n",
    "        text_file.write (\"City \" + str(x+1) + \":\" + city_name + \"\\n\")\n",
    "        text_file.write (base_response.url + \"\\n\")\n",
    "        \n",
    "         # convert to json\n",
    "        response = requests.get(query_url + city_name).json()\n",
    "\n",
    "         # Getting city data from citipy\n",
    "        try:\n",
    "            cityid.append(response['id'])\n",
    "            cityname.append(response['name'])\n",
    "            country.append(response['sys']['country'])\n",
    "            date.append(response['dt'])\n",
    "            lat.append(response['coord']['lat'])\n",
    "            long.append(response['coord']['lon'])\n",
    "            tempmax.append(response['main']['temp_max'])\n",
    "            humidity.append(response['main']['humidity'])\n",
    "            cloud.append(response['clouds']['all'])\n",
    "            wind.append(response['wind']['speed'])\n",
    "        except (KeyError, IndexError):\n",
    "            print(\"Missing value... skipping.\")\n",
    "\n",
    "        #pprint(response)"
   ]
  },
  {
   "cell_type": "code",
   "execution_count": null,
   "metadata": {},
   "outputs": [],
   "source": [
    "# build a dataframe from the cities, latitude, temperature, humidity, cloud, wind speed lists\n",
    "\n",
    "weather_data = {'Country': country, 'Date':date, 'Lat': lat,'Long':long, 'Temp Max': tempmax, \"Humidity\" : humidity, \n",
    "                \"Cloudiness\":cloud, 'Wind Speed':wind}\n",
    "\n",
    "# Setting the index of the dataframe\n",
    "weather_data = pd.DataFrame(weather_data, index = cityname)\n",
    "\n",
    "# Change the display order of the columns\n",
    "weather_data[['Cloudiness','Country','Date','Humidity','Lat','Long','Temp Max','Wind Speed']]\n",
    "\n",
    "weather_data.head()"
   ]
  },
  {
   "cell_type": "code",
   "execution_count": null,
   "metadata": {},
   "outputs": [],
   "source": [
    "#CSV of all data retrieved\n",
    "weather_data.to_csv('weatherdata.csv')"
   ]
  },
  {
   "cell_type": "code",
   "execution_count": null,
   "metadata": {},
   "outputs": [],
   "source": [
    "#Formatting the date column\n",
    "weather_data['Date'] = pd.to_datetime(weather_data['Date'],unit='s')\n",
    "weather_data['date2'] = weather_data['Date'].dt.strftime(\"%m/%d/%Y\")\n",
    "#weather_data"
   ]
  },
  {
   "cell_type": "code",
   "execution_count": null,
   "metadata": {},
   "outputs": [],
   "source": [
    "# Build a scatter plot to show the correlation between the maximum temperature and the latitude\n",
    "plt.scatter(weather_data[\"Lat\"], weather_data[\"Temp Max\"], marker=\"o\")\n",
    "\n",
    "date_plt = weather_data['date2'].unique()\n",
    "\n",
    "# Incorporate the other graph properties\n",
    "plt.title(\"City Latitude vs. Max Temperature (%s)\" % (time.strftime(\"%x\")))\n",
    "plt.ylabel(\"Max Temperature (F)\")\n",
    "plt.xlabel(\"Latitude\")\n",
    "plt.grid(True)\n",
    "\n",
    "# Save the figure\n",
    "plt.savefig(\"TempMaxCities.png\")\n",
    "\n",
    "# Show plot\n",
    "plt.show()"
   ]
  },
  {
   "cell_type": "code",
   "execution_count": null,
   "metadata": {},
   "outputs": [],
   "source": [
    "# Build a scatter plot for each data type to show the correlation between the humidity and the latitude for cities\n",
    "plt.scatter(weather_data[\"Lat\"], weather_data[\"Humidity\"], marker=\"o\")\n",
    "\n",
    "# Incorporate the other graph properties\n",
    "#plt.title(\"City Latitude vs. Humidity \"  + \"(\" + date_plt[0] +\")\")\n",
    "plt.title(\"City Latitude vs. Humidity (%s)\" % (time.strftime(\"%x\")))\n",
    "plt.ylabel(\"Humidity (%)\")\n",
    "plt.xlabel(\"Latitude\")\n",
    "plt.grid(True)\n",
    "\n",
    "# Save the figure\n",
    "plt.savefig(\"HumidityCities.png\")\n",
    "\n",
    "# Show plot\n",
    "plt.show()"
   ]
  },
  {
   "cell_type": "code",
   "execution_count": null,
   "metadata": {},
   "outputs": [],
   "source": [
    "# Build a scatter plot to show the correlation between the cloudiness and the latitude\n",
    "plt.scatter(weather_data[\"Lat\"], weather_data[\"Cloudiness\"], marker=\"o\")\n",
    "\n",
    "# Incorporate the other graph properties\n",
    "plt.title(\"City Latitude vs.Cloudiness (%s)\" % (time.strftime(\"%x\")))\n",
    "plt.ylabel(\"Cloudiness (%)\")\n",
    "plt.xlabel(\"Latitude\")\n",
    "plt.grid(True)\n",
    "\n",
    "# Save the figure\n",
    "plt.savefig(\"CloudinessCities.png\")\n",
    "\n",
    "# Show plot\n",
    "plt.show()"
   ]
  },
  {
   "cell_type": "code",
   "execution_count": null,
   "metadata": {
    "scrolled": true
   },
   "outputs": [],
   "source": [
    "# Build a scatter plot to show the correlation between the wind speed and the latitude for the cities\n",
    "plt.scatter(weather_data[\"Lat\"], weather_data[\"Wind Speed\"], marker =\"o\")\n",
    "\n",
    "# Incorporate the other graph properties\n",
    "plt.title(\"City Latitude vs.Wind Speed (%s)\" % (time.strftime(\"%x\")))\n",
    "plt.ylabel(\"Wind Speed (mph)\")\n",
    "plt.xlabel(\"Latitude\")\n",
    "plt.grid(True)\n",
    "\n",
    "# Save the figure\n",
    "plt.savefig(\"WindSpeedCities.png\")\n",
    "\n",
    "# Show plot\n",
    "plt.show()"
   ]
  }
 ],
 "metadata": {
  "kernelspec": {
   "display_name": "Python 3",
   "language": "python",
   "name": "python3"
  },
  "language_info": {
   "codemirror_mode": {
    "name": "ipython",
    "version": 3
   },
   "file_extension": ".py",
   "mimetype": "text/x-python",
   "name": "python",
   "nbconvert_exporter": "python",
   "pygments_lexer": "ipython3",
   "version": "3.6.4"
  }
 },
 "nbformat": 4,
 "nbformat_minor": 2
}
