{
 "cells": [
  {
   "cell_type": "code",
   "execution_count": null,
   "metadata": {},
   "outputs": [],
   "source": [
    "\n",
    "# Dependencies\n",
    "import matplotlib.pyplot as plt\n",
    "import requests\n",
    "import pandas as pd\n",
    "import numpy as np\n",
    "\n",
    "\n",
    "from config import api_key\n",
    "#from config import gkey\n",
    "\n",
    "from citipy import citipy\n",
    "\n",
    "from pprint import pprint\n",
    "\n",
    "import time\n",
    "from datetime import date\n"
   ]
  },
  {
   "cell_type": "code",
   "execution_count": null,
   "metadata": {},
   "outputs": [],
   "source": [
    "coord_lat= np.random.randint(-90, 90, 500)\n",
    "coord_lon = np.random.randint(-180 ,180, 500)\n",
    "\n",
    "# set up lists to hold reponse info\n",
    "cityid = []\n",
    "cityname = []\n",
    "country = []\n",
    "date = []\n",
    "tempmax = []\n",
    "lat = []\n",
    "long = []\n",
    "humidity = []\n",
    "cloud =[]\n",
    "wind =[]\n",
    "\n",
    "print ('Beginning Data Retrieval')\n",
    "print ('-----------------------------')\n",
    "\n",
    "for x in range(10):\n",
    "    \n",
    "        for y in range (50):\n",
    "            Lat= coord_lat[y]\n",
    "            Lng = coord_lon[y]\n",
    "            listcit = citipy.nearest_city(Lat, Lng)\n",
    "            city_name = listcit.city_name\n",
    "            city_code = listcit.country_code\n",
    "            #print (city_name)\n",
    "    #print (city_code)\n",
    "    \n",
    "            url = \"http://api.openweathermap.org/data/2.5/weather?\"\n",
    "            units = \"imperial\"\n",
    "\n",
    "                # Build partial query URL\n",
    "            query_url = f\"{url}appid={api_key}&units={units}&q=\"\n",
    "\n",
    "            base_response = requests.get(query_url + city_name)\n",
    "\n",
    "            print (\"Processing element \" + str(y+1) + ' of set ' + str(x+1) +' | ' + city_name)\n",
    "            print(base_response.url)\n",
    "\n",
    "            response = requests.get(query_url + city_name).json()\n",
    "\n",
    "\n",
    "            cityid.append(response['id'])\n",
    "            cityname.append(response['name'])\n",
    "            country.append(response['sys']['country'])\n",
    "            date.append(response['dt'])\n",
    "            lat.append(response['coord']['lat'])\n",
    "            long.append(response['coord']['lon'])\n",
    "\n",
    "            tempmax.append(response['main']['temp_max'])\n",
    "            humidity.append(response['main']['humidity'])\n",
    "            cloud.append(response['clouds']['all'])\n",
    "            wind.append(response['wind']['speed'])\n",
    "\n",
    "\n",
    "            #pprint(response)"
   ]
  },
  {
   "cell_type": "code",
   "execution_count": null,
   "metadata": {},
   "outputs": [],
   "source": [
    "print(f\"City ID: {cityid}\")\n",
    "print(f\"City Name: {cityname}\")\n",
    "print(f\"City country: {country}\")\n",
    "print(f\"Date: {date}\")\n",
    "print(f\"Latitude: {lat}\")\n",
    "print(f\"Longitude: {long}\")\n",
    "print(f\"Temperature: {tempmax}\")\n",
    "print(f\"Humidity: {humidity}\")\n",
    "print(f\"Cloudiness: {cloud}\")\n",
    "print(f\"Wind speed: {wind}\")\n"
   ]
  },
  {
   "cell_type": "code",
   "execution_count": null,
   "metadata": {},
   "outputs": [],
   "source": [
    "# build a dataframe from the cities, latitude, temperature, humidity, cloud, wind speed lists\n",
    "\n",
    "weather_data = { \"City Name\": cityname, 'Country': country, 'Date':date, 'Lat': lat,'Long':long, 'Temp Max': tempmax, \"Humidity\" : humidity, \n",
    "                \"Cloudiness\":cloud, 'Wind Speed':wind}\n",
    "weather_data = pd.DataFrame(weather_data)\n",
    "weather_data"
   ]
  },
  {
   "cell_type": "code",
   "execution_count": null,
   "metadata": {},
   "outputs": [],
   "source": [
    "weather_data['Date'] = pd.to_datetime(weather_data['Date'],unit='s')\n",
    "weather_data.assign(Date2=weather_data['Date'].dt.date, Time=weather_data['Date'].dt.time)\n",
    "\n",
    "weather_data"
   ]
  },
  {
   "cell_type": "code",
   "execution_count": null,
   "metadata": {},
   "outputs": [],
   "source": [
    "# Build a scatter plot for each data type\n",
    "plt.scatter(weather_data[\"Lat\"], weather_data[\"Temp Max\"], marker=\"o\")\n",
    "\n",
    "# Incorporate the other graph properties\n",
    "plt.title(\"City Latitude vs. Max Temperature\")\n",
    "plt.ylabel(\"Max Temperature (F)\")\n",
    "plt.xlabel(\"Latitude\")\n",
    "plt.grid(True)\n",
    "\n",
    "# Save the figure\n",
    "plt.savefig(\"TempMaxCities.png\")\n",
    "\n",
    "# Show plot\n",
    "plt.show()"
   ]
  },
  {
   "cell_type": "code",
   "execution_count": null,
   "metadata": {},
   "outputs": [],
   "source": [
    "# Build a scatter plot for each data type\n",
    "plt.scatter(weather_data[\"Lat\"], weather_data[\"Humidity\"], marker=\"o\")\n",
    "\n",
    "# Incorporate the other graph properties\n",
    "plt.title(\"City Latitude vs. Humidity\")\n",
    "plt.ylabel(\"Humidity (%)\")\n",
    "plt.xlabel(\"Latitude\")\n",
    "plt.grid(True)\n",
    "\n",
    "# Save the figure\n",
    "plt.savefig(\"HumidityCities.png\")\n",
    "\n",
    "# Show plot\n",
    "plt.show()"
   ]
  },
  {
   "cell_type": "code",
   "execution_count": null,
   "metadata": {},
   "outputs": [],
   "source": [
    "# Build a scatter plot for each data type\n",
    "plt.scatter(weather_data[\"Lat\"], weather_data[\"Cloudiness\"], marker=\"o\")\n",
    "\n",
    "# Incorporate the other graph properties\n",
    "plt.title(\"City Latitude vs.Cloudiness\")\n",
    "plt.ylabel(\"Cloudiness (%)\")\n",
    "plt.xlabel(\"Latitude\")\n",
    "plt.grid(True)\n",
    "\n",
    "# Save the figure\n",
    "plt.savefig(\"CloudinessCities.png\")\n",
    "\n",
    "# Show plot\n",
    "plt.show()"
   ]
  },
  {
   "cell_type": "code",
   "execution_count": null,
   "metadata": {},
   "outputs": [],
   "source": [
    "# Build a scatter plot for each data type\n",
    "plt.scatter(weather_data[\"Lat\"], weather_data[\"Wind Speed\"], marker =\"o\")\n",
    "\n",
    "# Incorporate the other graph properties\n",
    "plt.title(\"City Latitude vs.Cloudiness\")\n",
    "plt.ylabel(\"Wind Speed (mph)\")\n",
    "plt.xlabel(\"Latitude\")\n",
    "plt.grid(True)\n",
    "\n",
    "# Save the figure\n",
    "plt.savefig(\"WindSpeedCities.png\")\n",
    "\n",
    "# Show plot\n",
    "plt.show()"
   ]
  },
  {
   "cell_type": "code",
   "execution_count": null,
   "metadata": {},
   "outputs": [],
   "source": []
  },
  {
   "cell_type": "code",
   "execution_count": null,
   "metadata": {},
   "outputs": [],
   "source": []
  }
 ],
 "metadata": {
  "kernelspec": {
   "display_name": "Python 3",
   "language": "python",
   "name": "python3"
  },
  "language_info": {
   "codemirror_mode": {
    "name": "ipython",
    "version": 3
   },
   "file_extension": ".py",
   "mimetype": "text/x-python",
   "name": "python",
   "nbconvert_exporter": "python",
   "pygments_lexer": "ipython3",
   "version": "3.6.4"
  }
 },
 "nbformat": 4,
 "nbformat_minor": 2
}
