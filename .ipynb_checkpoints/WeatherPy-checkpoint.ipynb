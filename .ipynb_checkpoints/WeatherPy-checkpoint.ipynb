{
 "cells": [
  {
   "cell_type": "code",
   "execution_count": null,
   "metadata": {},
   "outputs": [],
   "source": [
    "#! pip install citypy\n",
    "# Dependencies\n",
    "import matplotlib.pyplot as plt\n",
    "import requests\n",
    "import pandas as pd\n",
    "import numpy as np\n",
    "\n",
    "from config import gkey\n",
    "\n",
    "from citipy import citipy"
   ]
  },
  {
   "cell_type": "code",
   "execution_count": null,
   "metadata": {},
   "outputs": [],
   "source": [
    "# Generating random 500 coordinates for Latitude and Longitude\n",
    "\n",
    "coords = pd.DataFrame({'lat': np.random.randint(-90, 90, 500),\n",
    "                   'long': np.random.randint(-180 ,180, 500)})\n",
    "coords.head()"
   ]
  },
  {
   "cell_type": "code",
   "execution_count": null,
   "metadata": {},
   "outputs": [],
   "source": [
    "# Genrating the list of 500 cities according the values of latitude and the longitude \n",
    "\n",
    "cities = []    \n",
    "for row in coords.itertuples():\n",
    "    lat = row.lat \n",
    "    long = row.long\n",
    "    cities.append(citipy.nearest_city(lat, long))\n",
    "\n",
    "   "
   ]
  },
  {
   "cell_type": "code",
   "execution_count": null,
   "metadata": {},
   "outputs": [],
   "source": [
    "for city in cities:\n",
    "     cityname = city.city_name \n",
    "     citycode = city.country_code"
   ]
  },
  {
   "cell_type": "code",
   "execution_count": null,
   "metadata": {},
   "outputs": [],
   "source": [
    "lat = coords['lat']\n",
    "long = coords['long']\n",
    "cities_data = pd.DataFrame({'City Name':[cityname],\n",
    "                            'City Code':[citycode],\n",
    "                            'Latitude':[lat],\n",
    "                            'Longitude':[long],\n",
    "                           })\n",
    "\n",
    "cities_data.head()"
   ]
  },
  {
   "cell_type": "code",
   "execution_count": null,
   "metadata": {},
   "outputs": [],
   "source": [
    "\n",
    "# for city in cities:\n",
    "#     cityname = city.city_name \n",
    "#     citycode = city.country_code"
   ]
  },
  {
   "cell_type": "code",
   "execution_count": null,
   "metadata": {},
   "outputs": [],
   "source": [
    "# Some random coordinates\n",
    "# coord = pd.DataFrame()\n",
    "# coord[\"Lat\"] = \"\"\n",
    "# coord[\"Lng\"] = \"\"\n",
    "\n",
    "coord_lat = np.random.randint(-90,90, 500)\n",
    "coord_lon = np.random.randint(-180,180, 500)\n",
    "    \n",
    "# coord.head()"
   ]
  },
  {
   "cell_type": "code",
   "execution_count": null,
   "metadata": {},
   "outputs": [],
   "source": [
    "cities = []\n",
    "for x in range(10):\n",
    "    Lat= coord_lat[x]\n",
    "    Lng = coord_lon[x]\n",
    "    res = citipy.nearest_city(Lat, Lng)\n",
    "    city_name = res.city_name\n",
    "    #city_code = res.country_code\n",
    "    print (city_name)\n",
    "    #print (city_code)"
   ]
  },
  {
   "cell_type": "code",
   "execution_count": null,
   "metadata": {},
   "outputs": [],
   "source": []
  }
 ],
 "metadata": {
  "kernelspec": {
   "display_name": "Python 3",
   "language": "python",
   "name": "python3"
  },
  "language_info": {
   "codemirror_mode": {
    "name": "ipython",
    "version": 3
   },
   "file_extension": ".py",
   "mimetype": "text/x-python",
   "name": "python",
   "nbconvert_exporter": "python",
   "pygments_lexer": "ipython3",
   "version": "3.6.4"
  }
 },
 "nbformat": 4,
 "nbformat_minor": 2
}
